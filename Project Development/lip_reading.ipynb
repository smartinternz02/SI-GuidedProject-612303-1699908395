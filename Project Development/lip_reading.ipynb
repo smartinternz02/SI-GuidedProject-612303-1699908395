{
 "cells": [
  {
   "cell_type": "markdown",
   "id": "a3573a47-3689-4668-b62f-5c8451b2b4e9",
   "metadata": {
    "tags": []
   },
   "source": [
    "# Importing Modules"
   ]
  },
  {
   "cell_type": "code",
   "execution_count": 1,
   "id": "b24af50c-20b8-409d-ad78-30a933fdd669",
   "metadata": {
    "tags": []
   },
   "outputs": [],
   "source": [
    "import os\n",
    "import cv2\n",
    "import tensorflow as tf\n",
    "import numpy as np\n",
    "from typing import List\n",
    "from matplotlib import pyplot as plt\n",
    "import imageio"
   ]
  },
  {
   "cell_type": "markdown",
   "id": "7a19e88e-c7b9-45c1-ae1e-f2109329c71b",
   "metadata": {
    "tags": []
   },
   "source": [
    "# Build Functions"
   ]
  },
  {
   "cell_type": "code",
   "execution_count": 2,
   "id": "8548cc59-6dfc-4acc-abc3-3e65212db02e",
   "metadata": {
    "tags": []
   },
   "outputs": [],
   "source": [
    "def load_video(path:str) -> List[float]: \n",
    "\n",
    "    cap = cv2.VideoCapture(path)\n",
    "    frames = []\n",
    "    for _ in range(int(cap.get(cv2.CAP_PROP_FRAME_COUNT))): \n",
    "        ret, frame = cap.read()\n",
    "        frame = tf.image.rgb_to_grayscale(frame)\n",
    "        frames.append(frame[190:236,80:220,:])\n",
    "    cap.release()\n",
    "    \n",
    "    mean = tf.math.reduce_mean(frames)\n",
    "    std = tf.math.reduce_std(tf.cast(frames, tf.float32))\n",
    "    return tf.cast((frames - mean), tf.float32) / std"
   ]
  },
  {
   "cell_type": "code",
   "execution_count": 3,
   "id": "ec735e0b-ec98-4eb0-8f49-c35527d6670a",
   "metadata": {
    "tags": []
   },
   "outputs": [],
   "source": [
    "vocab = [x for x in \"abcdefghijklmnopqrstuvwxyz'?!123456789 \"]"
   ]
  },
  {
   "cell_type": "code",
   "execution_count": 4,
   "id": "be04e972-d7a5-4a72-82d8-a6bdde1f3ce6",
   "metadata": {
    "tags": []
   },
   "outputs": [
    {
     "name": "stdout",
     "output_type": "stream",
     "text": [
      "The vocabulary is: ['', 'a', 'b', 'c', 'd', 'e', 'f', 'g', 'h', 'i', 'j', 'k', 'l', 'm', 'n', 'o', 'p', 'q', 'r', 's', 't', 'u', 'v', 'w', 'x', 'y', 'z', \"'\", '?', '!', '1', '2', '3', '4', '5', '6', '7', '8', '9', ' '] (size =40)\n"
     ]
    },
    {
     "name": "stderr",
     "output_type": "stream",
     "text": [
      "2023-11-20 18:08:59.315319: I metal_plugin/src/device/metal_device.cc:1154] Metal device set to: Apple M1\n",
      "2023-11-20 18:08:59.315363: I metal_plugin/src/device/metal_device.cc:296] systemMemory: 8.00 GB\n",
      "2023-11-20 18:08:59.315376: I metal_plugin/src/device/metal_device.cc:313] maxCacheSize: 2.67 GB\n",
      "2023-11-20 18:08:59.315589: I tensorflow/core/common_runtime/pluggable_device/pluggable_device_factory.cc:306] Could not identify NUMA node of platform GPU ID 0, defaulting to 0. Your kernel may not have been built with NUMA support.\n",
      "2023-11-20 18:08:59.315755: I tensorflow/core/common_runtime/pluggable_device/pluggable_device_factory.cc:272] Created TensorFlow device (/job:localhost/replica:0/task:0/device:GPU:0 with 0 MB memory) -> physical PluggableDevice (device: 0, name: METAL, pci bus id: <undefined>)\n"
     ]
    }
   ],
   "source": [
    "char_to_num = tf.keras.layers.StringLookup(vocabulary=vocab, oov_token=\"\")\n",
    "num_to_char = tf.keras.layers.StringLookup(\n",
    "    vocabulary=char_to_num.get_vocabulary(), oov_token=\"\", invert=True\n",
    ")\n",
    "\n",
    "print(\n",
    "    f\"The vocabulary is: {char_to_num.get_vocabulary()} \"\n",
    "    f\"(size ={char_to_num.vocabulary_size()})\"\n",
    ")"
   ]
  },
  {
   "cell_type": "code",
   "execution_count": 5,
   "id": "559f7420-6802-45fa-9ca0-b1ff209b461c",
   "metadata": {
    "tags": []
   },
   "outputs": [
    {
     "data": {
      "text/plain": [
       "['',\n",
       " 'a',\n",
       " 'b',\n",
       " 'c',\n",
       " 'd',\n",
       " 'e',\n",
       " 'f',\n",
       " 'g',\n",
       " 'h',\n",
       " 'i',\n",
       " 'j',\n",
       " 'k',\n",
       " 'l',\n",
       " 'm',\n",
       " 'n',\n",
       " 'o',\n",
       " 'p',\n",
       " 'q',\n",
       " 'r',\n",
       " 's',\n",
       " 't',\n",
       " 'u',\n",
       " 'v',\n",
       " 'w',\n",
       " 'x',\n",
       " 'y',\n",
       " 'z',\n",
       " \"'\",\n",
       " '?',\n",
       " '!',\n",
       " '1',\n",
       " '2',\n",
       " '3',\n",
       " '4',\n",
       " '5',\n",
       " '6',\n",
       " '7',\n",
       " '8',\n",
       " '9',\n",
       " ' ']"
      ]
     },
     "execution_count": 5,
     "metadata": {},
     "output_type": "execute_result"
    }
   ],
   "source": [
    "char_to_num.get_vocabulary()"
   ]
  },
  {
   "cell_type": "code",
   "execution_count": 6,
   "id": "797ff78b-b48f-4e14-bb62-8cd0ebf9501a",
   "metadata": {
    "tags": []
   },
   "outputs": [
    {
     "data": {
      "text/plain": [
       "<tf.Tensor: shape=(4,), dtype=int64, numpy=array([14,  9,  3, 11])>"
      ]
     },
     "execution_count": 6,
     "metadata": {},
     "output_type": "execute_result"
    }
   ],
   "source": [
    "char_to_num(['n','i','c','k'])"
   ]
  },
  {
   "cell_type": "code",
   "execution_count": 7,
   "id": "8cd7f4f4-ae77-4509-a4f4-c723787ebad1",
   "metadata": {},
   "outputs": [
    {
     "data": {
      "text/plain": [
       "<tf.Tensor: shape=(4,), dtype=string, numpy=array([b'n', b'i', b'c', b'k'], dtype=object)>"
      ]
     },
     "execution_count": 7,
     "metadata": {},
     "output_type": "execute_result"
    }
   ],
   "source": [
    "num_to_char([14,  9,  3, 11])"
   ]
  },
  {
   "cell_type": "code",
   "execution_count": 8,
   "id": "9491bab5-6a3c-4f79-879a-8f9fbe73ae2e",
   "metadata": {
    "tags": []
   },
   "outputs": [],
   "source": [
    "def load_alignments(path:str) -> List[str]: \n",
    "    with open(path, 'r') as f: \n",
    "        lines = f.readlines() \n",
    "    tokens = []\n",
    "    for line in lines:\n",
    "        line = line.split()\n",
    "        if line[2] != 'sil': \n",
    "            tokens = [*tokens,' ',line[2]]\n",
    "    return char_to_num(tf.reshape(tf.strings.unicode_split(tokens, input_encoding='UTF-8'), (-1)))[1:]"
   ]
  },
  {
   "cell_type": "code",
   "execution_count": 13,
   "id": "dd01ca9f-77fb-4643-a2aa-47dd82c5d66b",
   "metadata": {
    "tags": []
   },
   "outputs": [],
   "source": [
    "def load_data(path:str):\n",
    "    path=bytes.decode(path.numpy())\n",
    "    file_name=path.split('/')[-1].split('.')[0]\n",
    "    video_path=os.path.join('/Users/jewel/Downloads/data','s1',f'{file_name}.mpg')\n",
    "    alignment_path=os.path.join('/Users/jewel/Downloads/data','alignments','s1',f'{file_name}.align')\n",
    "    frames=load_video(video_path)\n",
    "    alignments=load_alignments(alignment_path)\n",
    "    \n",
    "    return frames,alignments"
   ]
  },
  {
   "cell_type": "code",
   "execution_count": 14,
   "id": "8cb7cc58-31ae-4904-a805-1177a82717d2",
   "metadata": {
    "tags": []
   },
   "outputs": [],
   "source": [
    "test_path = '/Users/jewel/Downloads/data/s1/bbal6n.mpg'"
   ]
  },
  {
   "cell_type": "code",
   "execution_count": 15,
   "id": "76aa964f-0c84-490d-897a-d00e3966e2c9",
   "metadata": {},
   "outputs": [
    {
     "data": {
      "text/plain": [
       "'/Users/jewel/Downloads/data/s1/bbal6n'"
      ]
     },
     "execution_count": 15,
     "metadata": {},
     "output_type": "execute_result"
    }
   ],
   "source": [
    "tf.convert_to_tensor(test_path).numpy().decode('utf-8').split('\\\\')[-1].split('.')[0]"
   ]
  },
  {
   "cell_type": "code",
   "execution_count": 16,
   "id": "eb602c71-8560-4f9e-b26b-08202febb937",
   "metadata": {
    "scrolled": true,
    "tags": []
   },
   "outputs": [],
   "source": [
    "frames, alignments = load_data(tf.convert_to_tensor(test_path))"
   ]
  },
  {
   "cell_type": "code",
   "execution_count": 17,
   "id": "0e3184a1-6b02-4b4f-84a8-a0a65f951ea2",
   "metadata": {},
   "outputs": [
    {
     "data": {
      "text/plain": [
       "<matplotlib.image.AxesImage at 0x29ab24190>"
      ]
     },
     "execution_count": 17,
     "metadata": {},
     "output_type": "execute_result"
    },
    {
     "data": {
      "image/png": "[encoded data removed]",
      "text/plain": [
       "<Figure size 640x480 with 1 Axes>"
      ]
     },
     "metadata": {},
     "output_type": "display_data"
    }
   ],
   "source": [
    "plt.imshow(frames[40])"
   ]
  },
  {
   "cell_type": "code",
   "execution_count": 18,
   "id": "d7ec0833-d54b-4073-84cf-92d011c60ec1",
   "metadata": {},
   "outputs": [
    {
     "data": {
      "text/plain": [
       "<tf.Tensor: shape=(21,), dtype=int64, numpy=\n",
       "array([ 2,  9, 14, 39,  2, 12, 21,  5, 39,  1, 20, 39, 12, 39, 19,  9, 24,\n",
       "       39, 14, 15, 23])>"
      ]
     },
     "execution_count": 18,
     "metadata": {},
     "output_type": "execute_result"
    }
   ],
   "source": [
    "alignments"
   ]
  },
  {
   "cell_type": "code",
   "execution_count": 19,
   "id": "fe1ad370-b287-4b46-85a2-7c45b0bd9b10",
   "metadata": {},
   "outputs": [
    {
     "data": {
      "text/plain": [
       "<tf.Tensor: shape=(), dtype=string, numpy=b'bin blue at l six now'>"
      ]
     },
     "execution_count": 19,
     "metadata": {},
     "output_type": "execute_result"
    }
   ],
   "source": [
    "tf.strings.reduce_join([bytes.decode(x) for x in num_to_char(alignments.numpy()).numpy()])"
   ]
  },
  {
   "cell_type": "code",
   "execution_count": 20,
   "id": "6871031a-b0ba-4c76-a852-f6329b0f2606",
   "metadata": {
    "tags": []
   },
   "outputs": [],
   "source": [
    "def mappable_function(path:str) ->List[str]:\n",
    "    result = tf.py_function(load_data, [path], (tf.float32, tf.int64))\n",
    "    return result"
   ]
  },
  {
   "cell_type": "markdown",
   "id": "c40a7eb4-0c3e-4eab-9291-5611cb68ce08",
   "metadata": {
    "tags": []
   },
   "source": [
    "# Data Processing"
   ]
  },
  {
   "cell_type": "code",
   "execution_count": 21,
   "id": "7686355d-45aa-4c85-ad9c-053e6a9b4d81",
   "metadata": {
    "tags": []
   },
   "outputs": [],
   "source": [
    "from matplotlib import pyplot as plt"
   ]
  },
  {
   "cell_type": "code",
   "execution_count": 22,
   "id": "f066fea2-91b1-42ed-a67d-00566a1a53ff",
   "metadata": {
    "tags": []
   },
   "outputs": [],
   "source": [
    "data = tf.data.Dataset.list_files('/Users/jewel/Downloads/data/s1/*.mpg')\n",
    "data = data.shuffle(500, reshuffle_each_iteration=False)\n",
    "data = data.map(mappable_function)\n",
    "data = data.padded_batch(2, padded_shapes=([75,None,None,None],[40]))\n",
    "data = data.prefetch(tf.data.AUTOTUNE)\n",
    "# Added for split \n",
    "train = data.take(450)\n",
    "test = data.skip(450)"
   ]
  },
  {
   "cell_type": "code",
   "execution_count": 24,
   "id": "5281bde8-fdc8-4da1-bd55-5a7929a9e80c",
   "metadata": {},
   "outputs": [],
   "source": [
    "frames, alignments = data.as_numpy_iterator().next()"
   ]
  },
  {
   "cell_type": "code",
   "execution_count": 25,
   "id": "cbebe683-6afd-47fd-bba4-c83b4b13bb32",
   "metadata": {},
   "outputs": [
    {
     "data": {
      "text/plain": [
       "2"
      ]
     },
     "execution_count": 25,
     "metadata": {},
     "output_type": "execute_result"
    }
   ],
   "source": [
    "len(frames)"
   ]
  },
  {
   "cell_type": "code",
   "execution_count": 26,
   "id": "5cf2d676-93a9-434c-b3c7-bdcc2577b2e7",
   "metadata": {
    "tags": []
   },
   "outputs": [],
   "source": [
    "sample = data.as_numpy_iterator()"
   ]
  },
  {
   "cell_type": "code",
   "execution_count": 27,
   "id": "efa6cd46-7079-46c0-b45b-832f339f6cb0",
   "metadata": {
    "scrolled": true,
    "tags": []
   },
   "outputs": [
    {
     "data": {
      "text/plain": [
       "array([[[[[1.2065469 ],\n",
       "          [1.2065469 ],\n",
       "          [1.2065469 ],\n",
       "          ...,\n",
       "          [0.44240054],\n",
       "          [0.44240054],\n",
       "          [0.36196408]],\n",
       "\n",
       "         [[1.2065469 ],\n",
       "          [1.2065469 ],\n",
       "          [1.2065469 ],\n",
       "          ...,\n",
       "          [0.4021823 ],\n",
       "          [0.36196408],\n",
       "          [0.36196408]],\n",
       "\n",
       "         [[1.2065469 ],\n",
       "          [1.2065469 ],\n",
       "          [1.2065469 ],\n",
       "          ...,\n",
       "          [0.20109116],\n",
       "          [0.32174584],\n",
       "          [0.20109116]],\n",
       "\n",
       "         ...,\n",
       "\n",
       "         [[0.8848011 ],\n",
       "          [0.8848011 ],\n",
       "          [0.8848011 ],\n",
       "          ...,\n",
       "          [0.9250193 ],\n",
       "          [1.045674  ],\n",
       "          [0.9250193 ]],\n",
       "\n",
       "         [[0.84458286],\n",
       "          [0.84458286],\n",
       "          [0.84458286],\n",
       "          ...,\n",
       "          [0.72392815],\n",
       "          [0.9250193 ],\n",
       "          [0.8848011 ]],\n",
       "\n",
       "         [[0.84458286],\n",
       "          [0.84458286],\n",
       "          [0.84458286],\n",
       "          ...,\n",
       "          [0.7641464 ],\n",
       "          [0.9250193 ],\n",
       "          [0.96523756]]],\n",
       "\n",
       "\n",
       "        [[[1.2065469 ],\n",
       "          [1.2065469 ],\n",
       "          [1.2065469 ],\n",
       "          ...,\n",
       "          [0.44240054],\n",
       "          [0.32174584],\n",
       "          [0.32174584]],\n",
       "\n",
       "         [[1.2065469 ],\n",
       "          [1.2065469 ],\n",
       "          [1.2065469 ],\n",
       "          ...,\n",
       "          [0.44240054],\n",
       "          [0.2815276 ],\n",
       "          [0.2815276 ]],\n",
       "\n",
       "         [[1.1663287 ],\n",
       "          [1.1663287 ],\n",
       "          [1.1663287 ],\n",
       "          ...,\n",
       "          [0.44240054],\n",
       "          [0.24130939],\n",
       "          [0.20109116]],\n",
       "\n",
       "         ...,\n",
       "\n",
       "         [[0.8043646 ],\n",
       "          [0.8043646 ],\n",
       "          [0.7641464 ],\n",
       "          ...,\n",
       "          [0.8848011 ],\n",
       "          [1.0054557 ],\n",
       "          [0.96523756]],\n",
       "\n",
       "         [[0.7641464 ],\n",
       "          [0.7641464 ],\n",
       "          [0.72392815],\n",
       "          ...,\n",
       "          [0.9250193 ],\n",
       "          [0.9250193 ],\n",
       "          [0.96523756]],\n",
       "\n",
       "         [[0.7641464 ],\n",
       "          [0.7641464 ],\n",
       "          [0.6837099 ],\n",
       "          ...,\n",
       "          [0.9250193 ],\n",
       "          [0.8848011 ],\n",
       "          [1.0858922 ]]],\n",
       "\n",
       "\n",
       "        [[[1.2065469 ],\n",
       "          [1.2065469 ],\n",
       "          [1.2065469 ],\n",
       "          ...,\n",
       "          [0.32174584],\n",
       "          [0.32174584],\n",
       "          [0.32174584]],\n",
       "\n",
       "         [[1.2065469 ],\n",
       "          [1.2065469 ],\n",
       "          [1.2065469 ],\n",
       "          ...,\n",
       "          [0.32174584],\n",
       "          [0.2815276 ],\n",
       "          [0.24130939]],\n",
       "\n",
       "         [[1.1663287 ],\n",
       "          [1.1663287 ],\n",
       "          [1.1663287 ],\n",
       "          ...,\n",
       "          [0.4021823 ],\n",
       "          [0.12065469],\n",
       "          [0.20109116]],\n",
       "\n",
       "         ...,\n",
       "\n",
       "         [[0.8043646 ],\n",
       "          [0.8043646 ],\n",
       "          [0.8043646 ],\n",
       "          ...,\n",
       "          [0.96523756],\n",
       "          [1.045674  ],\n",
       "          [1.0054557 ]],\n",
       "\n",
       "         [[0.8043646 ],\n",
       "          [0.8043646 ],\n",
       "          [0.7641464 ],\n",
       "          ...,\n",
       "          [0.9250193 ],\n",
       "          [0.8848011 ],\n",
       "          [0.96523756]],\n",
       "\n",
       "         [[0.8043646 ],\n",
       "          [0.8043646 ],\n",
       "          [0.72392815],\n",
       "          ...,\n",
       "          [0.8848011 ],\n",
       "          [0.8043646 ],\n",
       "          [1.045674  ]]],\n",
       "\n",
       "\n",
       "        ...,\n",
       "\n",
       "\n",
       "        [[[1.2467651 ],\n",
       "          [1.2467651 ],\n",
       "          [1.2065469 ],\n",
       "          ...,\n",
       "          [0.5630552 ],\n",
       "          [0.5630552 ],\n",
       "          [0.522837  ]],\n",
       "\n",
       "         [[1.2467651 ],\n",
       "          [1.2467651 ],\n",
       "          [1.2065469 ],\n",
       "          ...,\n",
       "          [0.5630552 ],\n",
       "          [0.5630552 ],\n",
       "          [0.48261878]],\n",
       "\n",
       "         [[1.0858922 ],\n",
       "          [1.0858922 ],\n",
       "          [1.0858922 ],\n",
       "          ...,\n",
       "          [0.4021823 ],\n",
       "          [0.44240054],\n",
       "          [0.522837  ]],\n",
       "\n",
       "         ...,\n",
       "\n",
       "         [[0.72392815],\n",
       "          [0.72392815],\n",
       "          [0.72392815],\n",
       "          ...,\n",
       "          [0.72392815],\n",
       "          [0.6837099 ],\n",
       "          [0.7641464 ]],\n",
       "\n",
       "         [[0.72392815],\n",
       "          [0.72392815],\n",
       "          [0.72392815],\n",
       "          ...,\n",
       "          [0.6837099 ],\n",
       "          [0.72392815],\n",
       "          [0.72392815]],\n",
       "\n",
       "         [[0.72392815],\n",
       "          [0.72392815],\n",
       "          [0.72392815],\n",
       "          ...,\n",
       "          [0.6837099 ],\n",
       "          [0.84458286],\n",
       "          [0.6434917 ]]],\n",
       "\n",
       "\n",
       "        [[[1.2467651 ],\n",
       "          [1.2065469 ],\n",
       "          [1.2065469 ],\n",
       "          ...,\n",
       "          [0.5630552 ],\n",
       "          [0.5630552 ],\n",
       "          [0.5630552 ]],\n",
       "\n",
       "         [[1.2065469 ],\n",
       "          [1.1663287 ],\n",
       "          [1.1663287 ],\n",
       "          ...,\n",
       "          [0.5630552 ],\n",
       "          [0.5630552 ],\n",
       "          [0.522837  ]],\n",
       "\n",
       "         [[1.0858922 ],\n",
       "          [1.0858922 ],\n",
       "          [1.1261104 ],\n",
       "          ...,\n",
       "          [0.4021823 ],\n",
       "          [0.522837  ],\n",
       "          [0.5630552 ]],\n",
       "\n",
       "         ...,\n",
       "\n",
       "         [[0.72392815],\n",
       "          [0.72392815],\n",
       "          [0.72392815],\n",
       "          ...,\n",
       "          [0.84458286],\n",
       "          [0.72392815],\n",
       "          [0.84458286]],\n",
       "\n",
       "         [[0.72392815],\n",
       "          [0.72392815],\n",
       "          [0.72392815],\n",
       "          ...,\n",
       "          [0.84458286],\n",
       "          [0.84458286],\n",
       "          [0.8043646 ]],\n",
       "\n",
       "         [[0.72392815],\n",
       "          [0.72392815],\n",
       "          [0.72392815],\n",
       "          ...,\n",
       "          [0.7641464 ],\n",
       "          [0.96523756],\n",
       "          [0.6837099 ]]],\n",
       "\n",
       "\n",
       "        [[[1.2467651 ],\n",
       "          [1.2065469 ],\n",
       "          [1.2065469 ],\n",
       "          ...,\n",
       "          [0.5630552 ],\n",
       "          [0.5630552 ],\n",
       "          [0.5630552 ]],\n",
       "\n",
       "         [[1.2065469 ],\n",
       "          [1.1663287 ],\n",
       "          [1.1663287 ],\n",
       "          ...,\n",
       "          [0.5630552 ],\n",
       "          [0.5630552 ],\n",
       "          [0.522837  ]],\n",
       "\n",
       "         [[1.0858922 ],\n",
       "          [1.0858922 ],\n",
       "          [1.1261104 ],\n",
       "          ...,\n",
       "          [0.4021823 ],\n",
       "          [0.48261878],\n",
       "          [0.5630552 ]],\n",
       "\n",
       "         ...,\n",
       "\n",
       "         [[0.84458286],\n",
       "          [0.8043646 ],\n",
       "          [0.8043646 ],\n",
       "          ...,\n",
       "          [0.72392815],\n",
       "          [0.72392815],\n",
       "          [0.8043646 ]],\n",
       "\n",
       "         [[0.8043646 ],\n",
       "          [0.8043646 ],\n",
       "          [0.8043646 ],\n",
       "          ...,\n",
       "          [0.7641464 ],\n",
       "          [0.72392815],\n",
       "          [0.7641464 ]],\n",
       "\n",
       "         [[0.8043646 ],\n",
       "          [0.8043646 ],\n",
       "          [0.8043646 ],\n",
       "          ...,\n",
       "          [0.7641464 ],\n",
       "          [0.7641464 ],\n",
       "          [0.6434917 ]]]],\n",
       "\n",
       "\n",
       "\n",
       "       [[[[1.4440117 ],\n",
       "          [1.4440117 ],\n",
       "          [1.4069858 ],\n",
       "          ...,\n",
       "          [0.29620755],\n",
       "          [0.2591816 ],\n",
       "          [0.2591816 ]],\n",
       "\n",
       "         [[1.4440117 ],\n",
       "          [1.4440117 ],\n",
       "          [1.4069858 ],\n",
       "          ...,\n",
       "          [0.29620755],\n",
       "          [0.2591816 ],\n",
       "          [0.2591816 ]],\n",
       "\n",
       "         [[1.4810376 ],\n",
       "          [1.4810376 ],\n",
       "          [1.4440117 ],\n",
       "          ...,\n",
       "          [0.33323348],\n",
       "          [0.29620755],\n",
       "          [0.29620755]],\n",
       "\n",
       "         ...,\n",
       "\n",
       "         [[0.9997004 ],\n",
       "          [0.9997004 ],\n",
       "          [0.92564857],\n",
       "          ...,\n",
       "          [0.03702594],\n",
       "          [0.        ],\n",
       "          [0.        ]],\n",
       "\n",
       "         [[0.9997004 ],\n",
       "          [0.9997004 ],\n",
       "          [0.92564857],\n",
       "          ...,\n",
       "          [0.03702594],\n",
       "          [0.        ],\n",
       "          [0.        ]],\n",
       "\n",
       "         [[0.9997004 ],\n",
       "          [0.9997004 ],\n",
       "          [0.92564857],\n",
       "          ...,\n",
       "          [0.03702594],\n",
       "          [0.        ],\n",
       "          [9.404589  ]]],\n",
       "\n",
       "\n",
       "        [[[1.3699598 ],\n",
       "          [1.3699598 ],\n",
       "          [1.3699598 ],\n",
       "          ...,\n",
       "          [0.2591816 ],\n",
       "          [0.22215565],\n",
       "          [0.22215565]],\n",
       "\n",
       "         [[1.3699598 ],\n",
       "          [1.3699598 ],\n",
       "          [1.3699598 ],\n",
       "          ...,\n",
       "          [0.2591816 ],\n",
       "          [0.22215565],\n",
       "          [0.22215565]],\n",
       "\n",
       "         [[1.4069858 ],\n",
       "          [1.4069858 ],\n",
       "          [1.4440117 ],\n",
       "          ...,\n",
       "          [0.29620755],\n",
       "          [0.2591816 ],\n",
       "          [0.2591816 ]],\n",
       "\n",
       "         ...,\n",
       "\n",
       "         [[1.0367264 ],\n",
       "          [0.9997004 ],\n",
       "          [0.9997004 ],\n",
       "          ...,\n",
       "          [9.441615  ],\n",
       "          [0.        ],\n",
       "          [0.        ]],\n",
       "\n",
       "         [[0.9997004 ],\n",
       "          [0.9626745 ],\n",
       "          [0.9626745 ],\n",
       "          ...,\n",
       "          [9.441615  ],\n",
       "          [9.441615  ],\n",
       "          [9.404589  ]],\n",
       "\n",
       "         [[0.9626745 ],\n",
       "          [0.92564857],\n",
       "          [0.92564857],\n",
       "          ...,\n",
       "          [9.441615  ],\n",
       "          [9.404589  ],\n",
       "          [9.404589  ]]],\n",
       "\n",
       "\n",
       "        [[[1.4440117 ],\n",
       "          [1.4440117 ],\n",
       "          [1.4069858 ],\n",
       "          ...,\n",
       "          [0.2591816 ],\n",
       "          [0.22215565],\n",
       "          [0.22215565]],\n",
       "\n",
       "         [[1.4440117 ],\n",
       "          [1.4440117 ],\n",
       "          [1.4069858 ],\n",
       "          ...,\n",
       "          [0.2591816 ],\n",
       "          [0.22215565],\n",
       "          [0.22215565]],\n",
       "\n",
       "         [[1.4069858 ],\n",
       "          [1.4069858 ],\n",
       "          [1.4069858 ],\n",
       "          ...,\n",
       "          [0.33323348],\n",
       "          [0.33323348],\n",
       "          [0.29620755]],\n",
       "\n",
       "         ...,\n",
       "\n",
       "         [[0.9997004 ],\n",
       "          [0.92564857],\n",
       "          [0.92564857],\n",
       "          ...,\n",
       "          [0.        ],\n",
       "          [0.03702594],\n",
       "          [0.        ]],\n",
       "\n",
       "         [[0.9997004 ],\n",
       "          [0.9626745 ],\n",
       "          [0.9626745 ],\n",
       "          ...,\n",
       "          [0.        ],\n",
       "          [9.441615  ],\n",
       "          [9.441615  ]],\n",
       "\n",
       "         [[0.9626745 ],\n",
       "          [0.92564857],\n",
       "          [0.92564857],\n",
       "          ...,\n",
       "          [9.441615  ],\n",
       "          [9.441615  ],\n",
       "          [9.404589  ]]],\n",
       "\n",
       "\n",
       "        ...,\n",
       "\n",
       "\n",
       "        [[[1.4440117 ],\n",
       "          [1.4440117 ],\n",
       "          [1.4069858 ],\n",
       "          ...,\n",
       "          [0.33323348],\n",
       "          [0.33323348],\n",
       "          [0.33323348]],\n",
       "\n",
       "         [[1.4440117 ],\n",
       "          [1.4440117 ],\n",
       "          [1.4069858 ],\n",
       "          ...,\n",
       "          [0.33323348],\n",
       "          [0.33323348],\n",
       "          [0.33323348]],\n",
       "\n",
       "         [[1.4440117 ],\n",
       "          [1.4440117 ],\n",
       "          [1.4069858 ],\n",
       "          ...,\n",
       "          [0.33323348],\n",
       "          [0.29620755],\n",
       "          [0.2591816 ]],\n",
       "\n",
       "         ...,\n",
       "\n",
       "         [[1.0737523 ],\n",
       "          [0.9997004 ],\n",
       "          [0.9997004 ],\n",
       "          ...,\n",
       "          [0.11107782],\n",
       "          [0.07405189],\n",
       "          [0.03702594]],\n",
       "\n",
       "         [[0.9997004 ],\n",
       "          [0.9997004 ],\n",
       "          [0.9997004 ],\n",
       "          ...,\n",
       "          [0.11107782],\n",
       "          [0.07405189],\n",
       "          [0.03702594]],\n",
       "\n",
       "         [[0.9997004 ],\n",
       "          [0.9997004 ],\n",
       "          [0.9997004 ],\n",
       "          ...,\n",
       "          [0.03702594],\n",
       "          [0.03702594],\n",
       "          [0.        ]]],\n",
       "\n",
       "\n",
       "        [[[1.4440117 ],\n",
       "          [1.4440117 ],\n",
       "          [1.4069858 ],\n",
       "          ...,\n",
       "          [0.29620755],\n",
       "          [0.29620755],\n",
       "          [0.29620755]],\n",
       "\n",
       "         [[1.4440117 ],\n",
       "          [1.4440117 ],\n",
       "          [1.4069858 ],\n",
       "          ...,\n",
       "          [0.29620755],\n",
       "          [0.29620755],\n",
       "          [0.29620755]],\n",
       "\n",
       "         [[1.4440117 ],\n",
       "          [1.4440117 ],\n",
       "          [1.4069858 ],\n",
       "          ...,\n",
       "          [0.29620755],\n",
       "          [0.29620755],\n",
       "          [0.29620755]],\n",
       "\n",
       "         ...,\n",
       "\n",
       "         [[1.0737523 ],\n",
       "          [0.9997004 ],\n",
       "          [0.9997004 ],\n",
       "          ...,\n",
       "          [0.03702594],\n",
       "          [0.07405189],\n",
       "          [0.03702594]],\n",
       "\n",
       "         [[0.9997004 ],\n",
       "          [0.9997004 ],\n",
       "          [0.9997004 ],\n",
       "          ...,\n",
       "          [0.07405189],\n",
       "          [0.        ],\n",
       "          [9.441615  ]],\n",
       "\n",
       "         [[0.9997004 ],\n",
       "          [0.9997004 ],\n",
       "          [0.9997004 ],\n",
       "          ...,\n",
       "          [0.03702594],\n",
       "          [9.441615  ],\n",
       "          [9.441615  ]]],\n",
       "\n",
       "\n",
       "        [[[1.4440117 ],\n",
       "          [1.4440117 ],\n",
       "          [1.4440117 ],\n",
       "          ...,\n",
       "          [0.33323348],\n",
       "          [0.33323348],\n",
       "          [0.33323348]],\n",
       "\n",
       "         [[1.4440117 ],\n",
       "          [1.4440117 ],\n",
       "          [1.4440117 ],\n",
       "          ...,\n",
       "          [0.33323348],\n",
       "          [0.33323348],\n",
       "          [0.33323348]],\n",
       "\n",
       "         [[1.4069858 ],\n",
       "          [1.4069858 ],\n",
       "          [1.4069858 ],\n",
       "          ...,\n",
       "          [0.29620755],\n",
       "          [0.29620755],\n",
       "          [0.29620755]],\n",
       "\n",
       "         ...,\n",
       "\n",
       "         [[1.0737523 ],\n",
       "          [0.9997004 ],\n",
       "          [0.9626745 ],\n",
       "          ...,\n",
       "          [0.07405189],\n",
       "          [0.07405189],\n",
       "          [0.03702594]],\n",
       "\n",
       "         [[0.9997004 ],\n",
       "          [0.9997004 ],\n",
       "          [0.9626745 ],\n",
       "          ...,\n",
       "          [0.07405189],\n",
       "          [0.        ],\n",
       "          [9.441615  ]],\n",
       "\n",
       "         [[0.9997004 ],\n",
       "          [0.9997004 ],\n",
       "          [0.9626745 ],\n",
       "          ...,\n",
       "          [0.03702594],\n",
       "          [9.441615  ],\n",
       "          [9.441615  ]]]]], dtype=float32)"
      ]
     },
     "execution_count": 27,
     "metadata": {},
     "output_type": "execute_result"
    }
   ],
   "source": [
    "val = sample.next(); val[0]"
   ]
  },
  {
   "cell_type": "code",
   "execution_count": 31,
   "id": "c33a87a2-d5e0-4ec9-b174-73ebf41bf03a",
   "metadata": {
    "tags": []
   },
   "outputs": [
    {
     "data": {
      "text/plain": [
       "<matplotlib.image.AxesImage at 0x1317a6710>"
      ]
     },
     "execution_count": 31,
     "metadata": {},
     "output_type": "execute_result"
    },
    {
     "data": {
      "image/png": "[encoded data removed]",
      "text/plain": [
       "<Figure size 640x480 with 1 Axes>"
      ]
     },
     "metadata": {},
     "output_type": "display_data"
    }
   ],
   "source": [
    "# 0:videos, 0: 1st video out of the batch,  0: return the first frame in the video \n",
    "plt.imshow(val[0][0][35])"
   ]
  },
  {
   "cell_type": "code",
   "execution_count": 32,
   "id": "84593332-133c-4205-b7a6-8e235d5e2b3b",
   "metadata": {
    "tags": []
   },
   "outputs": [
    {
     "data": {
      "text/plain": [
       "<tf.Tensor: shape=(), dtype=string, numpy=b'place blue by c seven again'>"
      ]
     },
     "execution_count": 32,
     "metadata": {},
     "output_type": "execute_result"
    }
   ],
   "source": [
    "tf.strings.reduce_join([num_to_char(word) for word in val[1][0]])"
   ]
  },
  {
   "cell_type": "markdown",
   "id": "0f47733c-83bc-465c-b118-b198b492ad37",
   "metadata": {
    "tags": []
   },
   "source": [
    "# Model Designing"
   ]
  },
  {
   "cell_type": "code",
   "execution_count": 33,
   "id": "d8e9a497-191b-4842-afbd-26f5e13c43ba",
   "metadata": {
    "tags": []
   },
   "outputs": [],
   "source": [
    "from tensorflow.keras.models import Sequential \n",
    "from tensorflow.keras.layers import Conv3D, LSTM, Dense, Dropout, Bidirectional, MaxPool3D, Activation, Reshape, SpatialDropout3D, BatchNormalization, TimeDistributed, Flatten\n",
    "from tensorflow.keras.optimizers import Adam\n",
    "from tensorflow.keras.callbacks import ModelCheckpoint, LearningRateScheduler"
   ]
  },
  {
   "cell_type": "code",
   "execution_count": 34,
   "id": "3f753ed2-70b9-4236-8c1c-08ca065dc8bf",
   "metadata": {},
   "outputs": [
    {
     "data": {
      "text/plain": [
       "(75, 46, 140, 1)"
      ]
     },
     "execution_count": 34,
     "metadata": {},
     "output_type": "execute_result"
    }
   ],
   "source": [
    "data.as_numpy_iterator().next()[0][0].shape"
   ]
  },
  {
   "cell_type": "code",
   "execution_count": 35,
   "id": "f9171056-a352-491a-9ed9-92b28ced268e",
   "metadata": {
    "tags": []
   },
   "outputs": [],
   "source": [
    "model = Sequential()\n",
    "model.add(Conv3D(128, 3, input_shape=(75,46,140,1), padding='same'))\n",
    "model.add(Activation('relu'))\n",
    "model.add(MaxPool3D((1,2,2)))\n",
    "\n",
    "model.add(Conv3D(256, 3, padding='same'))\n",
    "model.add(Activation('relu'))\n",
    "model.add(MaxPool3D((1,2,2)))\n",
    "\n",
    "model.add(Conv3D(75, 3, padding='same'))\n",
    "model.add(Activation('relu'))\n",
    "model.add(MaxPool3D((1,2,2)))\n",
    "\n",
    "model.add(TimeDistributed(Flatten()))\n",
    "\n",
    "model.add(Bidirectional(LSTM(128, kernel_initializer='Orthogonal', return_sequences=True)))\n",
    "model.add(Dropout(.5))\n",
    "\n",
    "model.add(Bidirectional(LSTM(128, kernel_initializer='Orthogonal', return_sequences=True)))\n",
    "model.add(Dropout(.5))\n",
    "\n",
    "model.add(Dense(char_to_num.vocabulary_size()+1, kernel_initializer='he_normal', activation='softmax'))"
   ]
  },
  {
   "cell_type": "markdown",
   "id": "2ec02176-5c26-46c3-aff7-8352e6563c7d",
   "metadata": {
    "tags": []
   },
   "source": [
    "# Training"
   ]
  },
  {
   "cell_type": "code",
   "execution_count": 42,
   "id": "ab015fd0-7fb4-4d5d-9fa2-30a05dbd515a",
   "metadata": {
    "tags": []
   },
   "outputs": [],
   "source": [
    "def scheduler(epoch, lr):\n",
    "    if epoch < 30:\n",
    "        return lr\n",
    "    else:\n",
    "        return lr * tf.math.exp(-0.1)"
   ]
  },
  {
   "cell_type": "code",
   "execution_count": 43,
   "id": "c564d5c9-db54-4e88-b311-9aeab7fb3e69",
   "metadata": {
    "tags": []
   },
   "outputs": [],
   "source": [
    "def CTCLoss(y_true, y_pred):\n",
    "    batch_len = tf.cast(tf.shape(y_true)[0], dtype=\"int64\")\n",
    "    input_length = tf.cast(tf.shape(y_pred)[1], dtype=\"int64\")\n",
    "    label_length = tf.cast(tf.shape(y_true)[1], dtype=\"int64\")\n",
    "\n",
    "    input_length = input_length * tf.ones(shape=(batch_len, 1), dtype=\"int64\")\n",
    "    label_length = label_length * tf.ones(shape=(batch_len, 1), dtype=\"int64\")\n",
    "\n",
    "    loss = tf.keras.backend.ctc_batch_cost(y_true, y_pred, input_length, label_length)\n",
    "    return loss"
   ]
  },
  {
   "cell_type": "code",
   "execution_count": 44,
   "id": "a26dc3fc-a19c-4378-bd8c-e2b597a1d15c",
   "metadata": {
    "tags": []
   },
   "outputs": [],
   "source": [
    "class ProduceExample(tf.keras.callbacks.Callback): \n",
    "    def __init__(self, dataset) -> None: \n",
    "        self.dataset = dataset.as_numpy_iterator()\n",
    "    \n",
    "    def on_epoch_end(self, epoch, logs=None) -> None:\n",
    "        data = self.dataset.next()\n",
    "        yhat = self.model.predict(data[0])\n",
    "        decoded = tf.keras.backend.ctc_decode(yhat, [75,75], greedy=False)[0][0].numpy()\n",
    "        for x in range(len(yhat)):           \n",
    "            print('Original:', tf.strings.reduce_join(num_to_char(data[1][x])).numpy().decode('utf-8'))\n",
    "            print('Prediction:', tf.strings.reduce_join(num_to_char(decoded[x])).numpy().decode('utf-8'))\n",
    "            print('~'*100)"
   ]
  },
  {
   "cell_type": "code",
   "execution_count": null,
   "id": "0e0af01b",
   "metadata": {},
   "outputs": [],
   "source": [
    "model.compile(optimizer=Adam(learning_rate=0.0001), loss=CTCLoss)"
   ]
  },
  {
   "cell_type": "code",
   "execution_count": 49,
   "id": "eab49367-3f1e-4464-ae76-dbd07549d97e",
   "metadata": {
    "tags": []
   },
   "outputs": [],
   "source": [
    "checkpoint_callback = ModelCheckpoint(os.path.join('models','checkpoint'), monitor='loss', save_weights_only=True) "
   ]
  },
  {
   "cell_type": "code",
   "execution_count": 50,
   "id": "e085a632-d464-46ef-8777-959cad4adb2c",
   "metadata": {
    "tags": []
   },
   "outputs": [],
   "source": [
    "schedule_callback = LearningRateScheduler(scheduler)"
   ]
  },
  {
   "cell_type": "code",
   "execution_count": 51,
   "id": "48eca991-90ab-4592-8a79-b50e9ca015b6",
   "metadata": {
    "tags": []
   },
   "outputs": [],
   "source": [
    "example_callback = ProduceExample(test)"
   ]
  },
  {
   "cell_type": "code",
   "execution_count": null,
   "id": "9d545e67",
   "metadata": {},
   "outputs": [],
   "source": [
    "#model.fit(train, validation_data=test, epochs=100, callbacks=[checkpoint_callback, schedule_callback, example_callback])"
   ]
  },
  {
   "cell_type": "markdown",
   "id": "fa8ee94b-89f7-4733-8a0c-a86f86ff590a",
   "metadata": {
    "tags": []
   },
   "source": [
    "# Making a Prediction "
   ]
  },
  {
   "cell_type": "code",
   "execution_count": null,
   "id": "fbc93f16",
   "metadata": {},
   "outputs": [],
   "source": [
    "model.load_weights('/Users/jewel/Downloads/models/checkpoint')"
   ]
  },
  {
   "cell_type": "code",
   "execution_count": 47,
   "id": "7f8d689f-b7bb-443c-9b88-e40c1d800828",
   "metadata": {
    "tags": []
   },
   "outputs": [],
   "source": [
    "test_data = test.as_numpy_iterator()"
   ]
  },
  {
   "cell_type": "code",
   "execution_count": 48,
   "id": "38546dc2-bee9-4837-864b-8a884df40ad7",
   "metadata": {
    "tags": []
   },
   "outputs": [
    {
     "name": "stderr",
     "output_type": "stream",
     "text": [
      "[mpeg1video @ 0x29aa50830] ac-tex damaged at 22 17\n",
      "[mpeg1video @ 0x29aa50830] Warning MVs not available\n"
     ]
    }
   ],
   "source": [
    "sample = test_data.next()"
   ]
  },
  {
   "cell_type": "code",
   "execution_count": 49,
   "id": "a43621f0-229d-4c0d-9554-9c3a3da9c61a",
   "metadata": {
    "tags": []
   },
   "outputs": [
    {
     "name": "stdout",
     "output_type": "stream",
     "text": [
      "1/1 [==============================] - 2s 2s/step\n"
     ]
    }
   ],
   "source": [
    "yhat = model.predict(sample[0])"
   ]
  },
  {
   "cell_type": "code",
   "execution_count": 50,
   "id": "ea462999-f87e-4a7e-a057-5be7b6d8f7d5",
   "metadata": {
    "tags": []
   },
   "outputs": [
    {
     "name": "stdout",
     "output_type": "stream",
     "text": [
      "~~~~~~~~~~~~~~~~~~~~~~~~~~~~~~~~~~~~~~~~~~~~~~~~~~~~~~~~~~~~~~~~~~~~~~~~~~~~~~~~~~~~~~~~~~~~~~~~~~~~ REAL TEXT\n"
     ]
    },
    {
     "data": {
      "text/plain": [
       "[<tf.Tensor: shape=(), dtype=string, numpy=b'bin blue at f four please'>,\n",
       " <tf.Tensor: shape=(), dtype=string, numpy=b'place red by x two now'>]"
      ]
     },
     "execution_count": 50,
     "metadata": {},
     "output_type": "execute_result"
    }
   ],
   "source": [
    "print('~'*100, 'REAL TEXT')\n",
    "[tf.strings.reduce_join([num_to_char(word) for word in sentence]) for sentence in sample[1]]"
   ]
  },
  {
   "cell_type": "code",
   "execution_count": 51,
   "id": "82bd4c10-dd6e-411e-834b-2a3b43fd12c5",
   "metadata": {
    "tags": []
   },
   "outputs": [],
   "source": [
    "decoded = tf.keras.backend.ctc_decode(yhat, input_length=[75,75], greedy=True)[0][0].numpy()"
   ]
  },
  {
   "cell_type": "code",
   "execution_count": 52,
   "id": "5d68ac46-c90b-4eab-a709-f19aee569ff5",
   "metadata": {
    "tags": []
   },
   "outputs": [
    {
     "name": "stdout",
     "output_type": "stream",
     "text": [
      "~~~~~~~~~~~~~~~~~~~~~~~~~~~~~~~~~~~~~~~~~~~~~~~~~~~~~~~~~~~~~~~~~~~~~~~~~~~~~~~~~~~~~~~~~~~~~~~~~~~~ PREDICTIONS\n"
     ]
    },
    {
     "data": {
      "text/plain": [
       "[<tf.Tensor: shape=(), dtype=string, numpy=b'bin blue at f four please'>,\n",
       " <tf.Tensor: shape=(), dtype=string, numpy=b'place red by x two now'>]"
      ]
     },
     "execution_count": 52,
     "metadata": {},
     "output_type": "execute_result"
    }
   ],
   "source": [
    "print('~'*100, 'PREDICTIONS')\n",
    "[tf.strings.reduce_join([num_to_char(word) for word in sentence]) for sentence in decoded]"
   ]
  },
  {
   "cell_type": "markdown",
   "id": "64622f98-e99b-4fed-a2cc-f0da82eb5431",
   "metadata": {},
   "source": [
    "# Testing on videos"
   ]
  },
  {
   "cell_type": "code",
   "execution_count": 64,
   "id": "a8b0c4d0-2031-4331-b91d-d87b1ae6f6e2",
   "metadata": {},
   "outputs": [],
   "source": [
    "sample = load_data(tf.convert_to_tensor('/Users/jewel/Downloads/data/s1/bbbs5s.mpg'))"
   ]
  },
  {
   "cell_type": "code",
   "execution_count": 65,
   "id": "0cca60e4-47a9-4683-8a75-48f4684f723d",
   "metadata": {},
   "outputs": [
    {
     "name": "stdout",
     "output_type": "stream",
     "text": [
      "~~~~~~~~~~~~~~~~~~~~~~~~~~~~~~~~~~~~~~~~~~~~~~~~~~~~~~~~~~~~~~~~~~~~~~~~~~~~~~~~~~~~~~~~~~~~~~~~~~~~ REAL TEXT\n"
     ]
    },
    {
     "data": {
      "text/plain": [
       "[<tf.Tensor: shape=(), dtype=string, numpy=b'bin blue by s five soon'>]"
      ]
     },
     "execution_count": 65,
     "metadata": {},
     "output_type": "execute_result"
    }
   ],
   "source": [
    "print('~'*100, 'REAL TEXT')\n",
    "[tf.strings.reduce_join([num_to_char(word) for word in sentence]) for sentence in [sample[1]]]"
   ]
  },
  {
   "cell_type": "code",
   "execution_count": 66,
   "id": "8cc5037c-1e32-435c-b0cc-01e1fb3b863c",
   "metadata": {},
   "outputs": [
    {
     "name": "stdout",
     "output_type": "stream",
     "text": [
      "1/1 [==============================] - 1s 1s/step\n"
     ]
    }
   ],
   "source": [
    "yhat = model.predict(tf.expand_dims(sample[0], axis=0))"
   ]
  },
  {
   "cell_type": "code",
   "execution_count": 67,
   "id": "22c4f77d-715d-409f-bc5e-3ebe48704e8f",
   "metadata": {},
   "outputs": [],
   "source": [
    "decoded = tf.keras.backend.ctc_decode(yhat, input_length=[75], greedy=True)[0][0].numpy()"
   ]
  },
  {
   "cell_type": "code",
   "execution_count": 68,
   "id": "e4d12ecc-b634-499e-a4bc-db9f010835fb",
   "metadata": {},
   "outputs": [
    {
     "name": "stdout",
     "output_type": "stream",
     "text": [
      "~~~~~~~~~~~~~~~~~~~~~~~~~~~~~~~~~~~~~~~~~~~~~~~~~~~~~~~~~~~~~~~~~~~~~~~~~~~~~~~~~~~~~~~~~~~~~~~~~~~~ PREDICTIONS\n"
     ]
    },
    {
     "data": {
      "text/plain": [
       "[<tf.Tensor: shape=(), dtype=string, numpy=b'bin blue by s five soon'>]"
      ]
     },
     "execution_count": 68,
     "metadata": {},
     "output_type": "execute_result"
    }
   ],
   "source": [
    "print('~'*100, 'PREDICTIONS')\n",
    "[tf.strings.reduce_join([num_to_char(word) for word in sentence]) for sentence in decoded]"
   ]
  },
  {
   "cell_type": "code",
   "execution_count": 58,
   "id": "551dfea2-de6b-4400-b71a-a17631529e3f",
   "metadata": {},
   "outputs": [
    {
     "name": "stdout",
     "output_type": "stream",
     "text": [
      "WARNING:tensorflow:Compiled the loaded model, but the compiled metrics have yet to be built. `model.compile_metrics` will be empty until you train or evaluate the model.\n"
     ]
    },
    {
     "name": "stderr",
     "output_type": "stream",
     "text": [
      "/Users/jewel/anaconda3/lib/python3.11/site-packages/keras/src/engine/training.py:3103: UserWarning: You are saving your model as an HDF5 file via `model.save()`. This file format is considered legacy. We recommend using instead the native Keras format, e.g. `model.save('my_model.keras')`.\n",
      "  saving_api.save_model(\n",
      "WARNING:tensorflow:Compiled the loaded model, but the compiled metrics have yet to be built. `model.compile_metrics` will be empty until you train or evaluate the model.\n"
     ]
    }
   ],
   "source": [
    "model.save(\"lip_reading.h5\")"
   ]
  },
  {
   "cell_type": "code",
   "execution_count": null,
   "id": "fa95863d-3832-47bf-8a77-ebaa38054ace",
   "metadata": {},
   "outputs": [],
   "source": []
  }
 ],
 "metadata": {
  "kernelspec": {
   "display_name": "Python 3 (ipykernel)",
   "language": "python",
   "name": "python3"
  },
  "language_info": {
   "codemirror_mode": {
    "name": "ipython",
    "version": 3
   },
   "file_extension": ".py",
   "mimetype": "text/x-python",
   "name": "python",
   "nbconvert_exporter": "python",
   "pygments_lexer": "ipython3",
   "version": "3.11.4"
  }
 },
 "nbformat": 4,
 "nbformat_minor": 5
}
